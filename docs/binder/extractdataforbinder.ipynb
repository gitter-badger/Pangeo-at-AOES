{
 "cells": [
  {
   "cell_type": "markdown",
   "metadata": {},
   "source": [
    "## Python import statements\n",
    "You must first import the Python packages you wish to use. \n",
    "This is a common set of basic import statments you can start with."
   ]
  },
  {
   "cell_type": "code",
   "execution_count": 16,
   "metadata": {},
   "outputs": [],
   "source": [
    "import numpy as np\n",
    "import xarray as xr\n",
    "import matplotlib.pyplot as plt"
   ]
  },
  {
   "cell_type": "markdown",
   "metadata": {},
   "source": [
    "Set the path and filename"
   ]
  },
  {
   "cell_type": "code",
   "execution_count": 19,
   "metadata": {},
   "outputs": [],
   "source": [
    "fname='/shared/cmip5/data/rcp45/atmos/mon/Amon/tas/NCAR.CCSM4/r1i1p1/tas_Amon_CCSM4_rcp45_r1i1p1_210101-229912.nc'"
   ]
  },
  {
   "cell_type": "markdown",
   "metadata": {},
   "source": [
    "Read the data using `xarray` `open_dataset` http://xarray.pydata.org/en/stable/generated/xarray.open_dataset.html"
   ]
  },
  {
   "cell_type": "code",
   "execution_count": 20,
   "metadata": {},
   "outputs": [],
   "source": [
    "ds=xr.open_dataset(fname)"
   ]
  },
  {
   "cell_type": "code",
   "execution_count": 22,
   "metadata": {},
   "outputs": [
    {
     "data": {
      "text/html": [
       "<pre>&lt;xarray.Dataset&gt;\n",
       "Dimensions:    (bnds: 2, lat: 192, lon: 288, time: 2388)\n",
       "Coordinates:\n",
       "  * time       (time) object 2101-01-16 12:00:00 ... 2299-12-16 12:00:00\n",
       "  * lat        (lat) float64 -90.0 -89.06 -88.12 -87.17 ... 88.12 89.06 90.0\n",
       "  * lon        (lon) float64 0.0 1.25 2.5 3.75 5.0 ... 355.0 356.2 357.5 358.8\n",
       "    height     float64 ...\n",
       "Dimensions without coordinates: bnds\n",
       "Data variables:\n",
       "    time_bnds  (time, bnds) object ...\n",
       "    lat_bnds   (lat, bnds) float64 ...\n",
       "    lon_bnds   (lon, bnds) float64 ...\n",
       "    tas        (time, lat, lon) float32 ...\n",
       "Attributes:\n",
       "    institution:                  NCAR (National Center for Atmospheric Resea...\n",
       "    institute_id:                 NCAR\n",
       "    experiment_id:                rcp45\n",
       "    source:                       CCSM4\n",
       "    model_id:                     CCSM4\n",
       "    forcing:                      Sl GHG SS Ds SA BC MD OC Oz AA\n",
       "    parent_experiment_id:         historical\n",
       "    parent_experiment_rip:        r1i1p1\n",
       "    branch_time:                  21.0\n",
       "    contact:                      cesm_data@ucar.edu\n",
       "    comment:                      CESM home page: http://www.cesm.ucar.edu\n",
       "    references:                   Gent P. R., et.al. 2011: The Community Clim...\n",
       "    initialization_method:        1\n",
       "    physics_version:              1\n",
       "    tracking_id:                  64eaa5ca-4b55-4167-94e4-e8b827deb23e\n",
       "    acknowledgements:             The CESM project is supported by the Nation...\n",
       "    cesm_casename:                b40.rcp4_5.2300.001\n",
       "    cesm_repotag:                 cesm1_0_beta08\n",
       "    cesm_compset:                 BRCP45CN\n",
       "    resolution:                   f09_g16 (0.9x1.25_gx1v6)\n",
       "    forcing_note:                 Additional information on the external forc...\n",
       "    processed_by:                 strandwg on mirage3 at 20120603  -121341.236\n",
       "    processing_code_information:  Last Changed Rev: 837 Last Changed Date: 20...\n",
       "    product:                      output\n",
       "    experiment:                   RCP4.5\n",
       "    frequency:                    mon\n",
       "    creation_date:                2012-06-03T18:13:42Z\n",
       "    history:                      2012-06-03T18:13:42Z CMOR rewrote data to c...\n",
       "    Conventions:                  CF-1.4\n",
       "    project_id:                   CMIP5\n",
       "    table_id:                     Table Amon (12 January 2012) 4996d487f7a657...\n",
       "    title:                        CCSM4 model output prepared for CMIP5 RCP4.5\n",
       "    parent_experiment:            historical\n",
       "    modeling_realm:               atmos\n",
       "    realization:                  1\n",
       "    cmor_version:                 2.8.1</pre>"
      ],
      "text/plain": [
       "<xarray.Dataset>\n",
       "Dimensions:    (bnds: 2, lat: 192, lon: 288, time: 2388)\n",
       "Coordinates:\n",
       "  * time       (time) object 2101-01-16 12:00:00 ... 2299-12-16 12:00:00\n",
       "  * lat        (lat) float64 -90.0 -89.06 -88.12 -87.17 ... 88.12 89.06 90.0\n",
       "  * lon        (lon) float64 0.0 1.25 2.5 3.75 5.0 ... 355.0 356.2 357.5 358.8\n",
       "    height     float64 ...\n",
       "Dimensions without coordinates: bnds\n",
       "Data variables:\n",
       "    time_bnds  (time, bnds) object ...\n",
       "    lat_bnds   (lat, bnds) float64 ...\n",
       "    lon_bnds   (lon, bnds) float64 ...\n",
       "    tas        (time, lat, lon) float32 ...\n",
       "Attributes:\n",
       "    institution:                  NCAR (National Center for Atmospheric Resea...\n",
       "    institute_id:                 NCAR\n",
       "    experiment_id:                rcp45\n",
       "    source:                       CCSM4\n",
       "    model_id:                     CCSM4\n",
       "    forcing:                      Sl GHG SS Ds SA BC MD OC Oz AA\n",
       "    parent_experiment_id:         historical\n",
       "    parent_experiment_rip:        r1i1p1\n",
       "    branch_time:                  21.0\n",
       "    contact:                      cesm_data@ucar.edu\n",
       "    comment:                      CESM home page: http://www.cesm.ucar.edu\n",
       "    references:                   Gent P. R., et.al. 2011: The Community Clim...\n",
       "    initialization_method:        1\n",
       "    physics_version:              1\n",
       "    tracking_id:                  64eaa5ca-4b55-4167-94e4-e8b827deb23e\n",
       "    acknowledgements:             The CESM project is supported by the Nation...\n",
       "    cesm_casename:                b40.rcp4_5.2300.001\n",
       "    cesm_repotag:                 cesm1_0_beta08\n",
       "    cesm_compset:                 BRCP45CN\n",
       "    resolution:                   f09_g16 (0.9x1.25_gx1v6)\n",
       "    forcing_note:                 Additional information on the external forc...\n",
       "    processed_by:                 strandwg on mirage3 at 20120603  -121341.236\n",
       "    processing_code_information:  Last Changed Rev: 837 Last Changed Date: 20...\n",
       "    product:                      output\n",
       "    experiment:                   RCP4.5\n",
       "    frequency:                    mon\n",
       "    creation_date:                2012-06-03T18:13:42Z\n",
       "    history:                      2012-06-03T18:13:42Z CMOR rewrote data to c...\n",
       "    Conventions:                  CF-1.4\n",
       "    project_id:                   CMIP5\n",
       "    table_id:                     Table Amon (12 January 2012) 4996d487f7a657...\n",
       "    title:                        CCSM4 model output prepared for CMIP5 RCP4.5\n",
       "    parent_experiment:            historical\n",
       "    modeling_realm:               atmos\n",
       "    realization:                  1\n",
       "    cmor_version:                 2.8.1"
      ]
     },
     "execution_count": 22,
     "metadata": {},
     "output_type": "execute_result"
    }
   ],
   "source": [
    "ds"
   ]
  },
  {
   "cell_type": "markdown",
   "metadata": {},
   "source": [
    "When you read in data using `xarray`, it creates an object called an `xarray.Dataset` which consists of your data and all its metadata. If we print out our `Dataset` which is called `ds`, its similar to doing a `ncdump -h` on a netcdf file. You can see all the dimensions, size, and attributes of the data in the file."
   ]
  },
  {
   "cell_type": "code",
   "execution_count": 24,
   "metadata": {},
   "outputs": [],
   "source": [
    "dst1=ds.sel(time='2101-01-16')"
   ]
  },
  {
   "cell_type": "markdown",
   "metadata": {},
   "source": [
    "If you want to access just the surface air tempeature (tas) data itself, without all the gloal attributes, you can do that by supplying the name of the variable"
   ]
  },
  {
   "cell_type": "code",
   "execution_count": 25,
   "metadata": {},
   "outputs": [],
   "source": [
    "dst1.to_netcdf('data/tas_Amon_CCSM4_rcp45_r1i1p1_2101-01.nc')"
   ]
  },
  {
   "cell_type": "markdown",
   "metadata": {},
   "source": [
    "Let's make a very simple contour plot to convince ourselves that we indeed have surface air temperature data. \n",
    "1. We will use the `matplotlib` `plt.contourf` function for a filed contour plot.  It works very similar to Matlab plotting functions.  \n",
    "2. We can only make a contour plot with 2-D data (lat,lon) and we have 3-D (time,lat,lon), so we will need to access a single time using brackets notation. \n",
    "3. We will want to add a colorbar to see that values are reasonable"
   ]
  },
  {
   "cell_type": "code",
   "execution_count": 27,
   "metadata": {},
   "outputs": [],
   "source": [
    "dsmean=ds.mean(dim='time')\n",
    "dsmean.to_netcdf('data/tas_Amon_CCSM4_rcp45_r1i1p1_2101-2299_mean.nc')"
   ]
  },
  {
   "cell_type": "markdown",
   "metadata": {},
   "source": [
    "This is a very simple plot, but it looks like we have temperature data.  More details on how to plot maps, make nice lables, and colors, can be found in other examples."
   ]
  }
 ],
 "metadata": {
  "kernelspec": {
   "display_name": "Python (aoes)",
   "language": "python",
   "name": "aoes"
  },
  "language_info": {
   "codemirror_mode": {
    "name": "ipython",
    "version": 3
   },
   "file_extension": ".py",
   "mimetype": "text/x-python",
   "name": "python",
   "nbconvert_exporter": "python",
   "pygments_lexer": "ipython3",
   "version": "3.6.7"
  }
 },
 "nbformat": 4,
 "nbformat_minor": 4
}
