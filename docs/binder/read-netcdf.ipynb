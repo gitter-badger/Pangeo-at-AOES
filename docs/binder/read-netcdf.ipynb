{
 "cells": [
  {
   "cell_type": "markdown",
   "metadata": {},
   "source": [
    "# Read a netcdf file and make a contour plot of the data"
   ]
  },
  {
   "cell_type": "markdown",
   "metadata": {},
   "source": [
    "In this example, we demonstrate:\n",
    "1. How to read a netcdf file in Python using `xarray` \n",
    "2. How to make a contour plot of the data"
   ]
  },
  {
   "cell_type": "markdown",
   "metadata": {},
   "source": [
    "## Data\n",
    "We will read CMIP5 data for surface air temperature (tas) from the RCP8.5 scenario produced by the NCAR/CCSM4 model. For this example, we will read the first ensemble member.\n",
    "\n",
    "For the external tutorial, we have extracted the tropical Pacific to reduce the data size."
   ]
  },
  {
   "cell_type": "markdown",
   "metadata": {},
   "source": [
    "## Python import statements\n",
    "You must first import the Python packages you wish to use. \n",
    "This is a common set of basic import statments you can start with."
   ]
  },
  {
   "cell_type": "code",
   "execution_count": 1,
   "metadata": {},
   "outputs": [],
   "source": [
    "import numpy as np\n",
    "import xarray as xr\n",
    "import matplotlib.pyplot as plt"
   ]
  },
  {
   "cell_type": "markdown",
   "metadata": {},
   "source": [
    "Set the path and filename"
   ]
  },
  {
   "cell_type": "code",
   "execution_count": 4,
   "metadata": {},
   "outputs": [],
   "source": [
    "fname='data/tas_Amon_CCSM4_rcp45_r1i1p1_200601-210012_TropPac.nc'"
   ]
  },
  {
   "cell_type": "markdown",
   "metadata": {},
   "source": [
    "Read the data using `xarray` `open_dataset` http://xarray.pydata.org/en/stable/generated/xarray.open_dataset.html"
   ]
  },
  {
   "cell_type": "code",
   "execution_count": 5,
   "metadata": {},
   "outputs": [],
   "source": [
    "ds=xr.open_dataset(fname)"
   ]
  },
  {
   "cell_type": "markdown",
   "metadata": {},
   "source": [
    "When you read in data using `xarray`, it creates an object called an `xarray.Dataset` which consists of your data and all its metadata. If we print out our `Dataset` which is called `ds`, its similar to doing a `ncdump -h` on a netcdf file. You can see all the dimensions, size, and attributes of the data in the file."
   ]
  },
  {
   "cell_type": "code",
   "execution_count": 6,
   "metadata": {},
   "outputs": [
    {
     "data": {
      "text/html": [
       "<pre>&lt;xarray.Dataset&gt;\n",
       "Dimensions:    (bnds: 2, lat: 22, lon: 169, time: 1140)\n",
       "Coordinates:\n",
       "  * time       (time) object 2006-01-16 12:00:00 ... 2100-12-16 12:00:00\n",
       "  * lat        (lat) float64 -9.895 -8.953 -8.01 -7.068 ... 8.01 8.953 9.895\n",
       "  * lon        (lon) float64 70.0 71.25 72.5 73.75 ... 276.2 277.5 278.8 280.0\n",
       "    height     float64 ...\n",
       "Dimensions without coordinates: bnds\n",
       "Data variables:\n",
       "    time_bnds  (time, bnds) object ...\n",
       "    lat_bnds   (lat, bnds) float64 ...\n",
       "    lon_bnds   (lon, bnds) float64 ...\n",
       "    tas        (time, lat, lon) float32 ...\n",
       "Attributes:\n",
       "    institution:                  NCAR (National Center for Atmospheric Resea...\n",
       "    institute_id:                 NCAR\n",
       "    experiment_id:                rcp45\n",
       "    source:                       CCSM4\n",
       "    model_id:                     CCSM4\n",
       "    forcing:                      Sl GHG Vl SS Ds SA BC MD OC Oz AA\n",
       "    parent_experiment_id:         historical\n",
       "    parent_experiment_rip:        r1i1p1\n",
       "    branch_time:                  2005.0\n",
       "    contact:                      cesm_data@ucar.edu\n",
       "    references:                   Gent P. R., et.al. 2011: The Community Clim...\n",
       "    initialization_method:        1\n",
       "    physics_version:              1\n",
       "    tracking_id:                  0bf35136-b266-44d2-9078-f3081b83b6ad\n",
       "    acknowledgements:             The CESM project is supported by the Nation...\n",
       "    cesm_casename:                b40.rcp4_5.1deg.001\n",
       "    cesm_repotag:                 ccsm4_0_beta49\n",
       "    cesm_compset:                 BRCP45CN\n",
       "    resolution:                   f09_g16 (0.9x1.25_gx1v6)\n",
       "    forcing_note:                 Additional information on the external forc...\n",
       "    processed_by:                 strandwg on mirage0 at 20111021\n",
       "    processing_code_information:  Last Changed Rev: 428 Last Changed Date: 20...\n",
       "    product:                      output\n",
       "    experiment:                   RCP4.5\n",
       "    frequency:                    mon\n",
       "    creation_date:                2011-10-21T21:56:22Z\n",
       "    history:                      2011-10-21T21:56:22Z CMOR rewrote data to c...\n",
       "    Conventions:                  CF-1.4\n",
       "    project_id:                   CMIP5\n",
       "    table_id:                     Table Amon (26 July 2011) 976b7fd1d9e1be31d...\n",
       "    title:                        CCSM4 model output prepared for CMIP5 RCP4.5\n",
       "    parent_experiment:            historical\n",
       "    modeling_realm:               atmos\n",
       "    realization:                  1\n",
       "    cmor_version:                 2.7.1</pre>"
      ],
      "text/plain": [
       "<xarray.Dataset>\n",
       "Dimensions:    (bnds: 2, lat: 22, lon: 169, time: 1140)\n",
       "Coordinates:\n",
       "  * time       (time) object 2006-01-16 12:00:00 ... 2100-12-16 12:00:00\n",
       "  * lat        (lat) float64 -9.895 -8.953 -8.01 -7.068 ... 8.01 8.953 9.895\n",
       "  * lon        (lon) float64 70.0 71.25 72.5 73.75 ... 276.2 277.5 278.8 280.0\n",
       "    height     float64 ...\n",
       "Dimensions without coordinates: bnds\n",
       "Data variables:\n",
       "    time_bnds  (time, bnds) object ...\n",
       "    lat_bnds   (lat, bnds) float64 ...\n",
       "    lon_bnds   (lon, bnds) float64 ...\n",
       "    tas        (time, lat, lon) float32 ...\n",
       "Attributes:\n",
       "    institution:                  NCAR (National Center for Atmospheric Resea...\n",
       "    institute_id:                 NCAR\n",
       "    experiment_id:                rcp45\n",
       "    source:                       CCSM4\n",
       "    model_id:                     CCSM4\n",
       "    forcing:                      Sl GHG Vl SS Ds SA BC MD OC Oz AA\n",
       "    parent_experiment_id:         historical\n",
       "    parent_experiment_rip:        r1i1p1\n",
       "    branch_time:                  2005.0\n",
       "    contact:                      cesm_data@ucar.edu\n",
       "    references:                   Gent P. R., et.al. 2011: The Community Clim...\n",
       "    initialization_method:        1\n",
       "    physics_version:              1\n",
       "    tracking_id:                  0bf35136-b266-44d2-9078-f3081b83b6ad\n",
       "    acknowledgements:             The CESM project is supported by the Nation...\n",
       "    cesm_casename:                b40.rcp4_5.1deg.001\n",
       "    cesm_repotag:                 ccsm4_0_beta49\n",
       "    cesm_compset:                 BRCP45CN\n",
       "    resolution:                   f09_g16 (0.9x1.25_gx1v6)\n",
       "    forcing_note:                 Additional information on the external forc...\n",
       "    processed_by:                 strandwg on mirage0 at 20111021\n",
       "    processing_code_information:  Last Changed Rev: 428 Last Changed Date: 20...\n",
       "    product:                      output\n",
       "    experiment:                   RCP4.5\n",
       "    frequency:                    mon\n",
       "    creation_date:                2011-10-21T21:56:22Z\n",
       "    history:                      2011-10-21T21:56:22Z CMOR rewrote data to c...\n",
       "    Conventions:                  CF-1.4\n",
       "    project_id:                   CMIP5\n",
       "    table_id:                     Table Amon (26 July 2011) 976b7fd1d9e1be31d...\n",
       "    title:                        CCSM4 model output prepared for CMIP5 RCP4.5\n",
       "    parent_experiment:            historical\n",
       "    modeling_realm:               atmos\n",
       "    realization:                  1\n",
       "    cmor_version:                 2.7.1"
      ]
     },
     "execution_count": 6,
     "metadata": {},
     "output_type": "execute_result"
    }
   ],
   "source": [
    "ds"
   ]
  },
  {
   "cell_type": "markdown",
   "metadata": {},
   "source": [
    "If you want to access just the surface air tempeature (tas) data itself, without all the gloal attributes, you can do that by supplying the name of the variable"
   ]
  },
  {
   "cell_type": "code",
   "execution_count": 7,
   "metadata": {},
   "outputs": [
    {
     "data": {
      "text/html": [
       "<pre>&lt;xarray.DataArray &#x27;tas&#x27; (time: 1140, lat: 22, lon: 169)&gt;\n",
       "[4238520 values with dtype=float32]\n",
       "Coordinates:\n",
       "  * time     (time) object 2006-01-16 12:00:00 ... 2100-12-16 12:00:00\n",
       "  * lat      (lat) float64 -9.895 -8.953 -8.01 -7.068 ... 7.068 8.01 8.953 9.895\n",
       "  * lon      (lon) float64 70.0 71.25 72.5 73.75 ... 276.2 277.5 278.8 280.0\n",
       "    height   float64 ...\n",
       "Attributes:\n",
       "    standard_name:     air_temperature\n",
       "    long_name:         Near-Surface Air Temperature\n",
       "    units:             K\n",
       "    original_name:     TREFHT\n",
       "    comment:           TREFHT no change\n",
       "    cell_methods:      time: mean (interval: 30 days)\n",
       "    cell_measures:     area: areacella\n",
       "    history:           2011-10-21T21:56:22Z altered by CMOR: Treated scalar d...\n",
       "    associated_files:  baseURL: http://cmip-pcmdi.llnl.gov/CMIP5/dataLocation...</pre>"
      ],
      "text/plain": [
       "<xarray.DataArray 'tas' (time: 1140, lat: 22, lon: 169)>\n",
       "[4238520 values with dtype=float32]\n",
       "Coordinates:\n",
       "  * time     (time) object 2006-01-16 12:00:00 ... 2100-12-16 12:00:00\n",
       "  * lat      (lat) float64 -9.895 -8.953 -8.01 -7.068 ... 7.068 8.01 8.953 9.895\n",
       "  * lon      (lon) float64 70.0 71.25 72.5 73.75 ... 276.2 277.5 278.8 280.0\n",
       "    height   float64 ...\n",
       "Attributes:\n",
       "    standard_name:     air_temperature\n",
       "    long_name:         Near-Surface Air Temperature\n",
       "    units:             K\n",
       "    original_name:     TREFHT\n",
       "    comment:           TREFHT no change\n",
       "    cell_methods:      time: mean (interval: 30 days)\n",
       "    cell_measures:     area: areacella\n",
       "    history:           2011-10-21T21:56:22Z altered by CMOR: Treated scalar d...\n",
       "    associated_files:  baseURL: http://cmip-pcmdi.llnl.gov/CMIP5/dataLocation..."
      ]
     },
     "execution_count": 7,
     "metadata": {},
     "output_type": "execute_result"
    }
   ],
   "source": [
    "ds['tas']"
   ]
  },
  {
   "cell_type": "markdown",
   "metadata": {},
   "source": [
    "Let's make a very simple contour plot to convince ourselves that we indeed have surface air temperature data. \n",
    "1. We will use the `matplotlib` `plt.contourf` function for a filed contour plot.  It works very similar to Matlab plotting functions.  \n",
    "2. We can only make a contour plot with 2-D data (lat,lon) and we have 3-D (time,lat,lon), so we will need to access a single time using brackets notation. \n",
    "3. We will want to add a colorbar to see that values are reasonable"
   ]
  },
  {
   "cell_type": "code",
   "execution_count": 8,
   "metadata": {},
   "outputs": [
    {
     "data": {
      "text/plain": [
       "<matplotlib.colorbar.Colorbar at 0x7ffb11891cf8>"
      ]
     },
     "execution_count": 8,
     "metadata": {},
     "output_type": "execute_result"
    },
    {
     "data": {
      "image/png": "[encoded data removed]",
      "text/plain": [
       "<Figure size 432x288 with 2 Axes>"
      ]
     },
     "metadata": {
      "needs_background": "light"
     },
     "output_type": "display_data"
    }
   ],
   "source": [
    "plt.contourf(ds['tas'][0,:,:])\n",
    "plt.colorbar()"
   ]
  },
  {
   "cell_type": "markdown",
   "metadata": {},
   "source": [
    "This is a very simple plot, but it looks like we have temperature data.  More details on how to plot maps, make nice lables, and colors, can be found in other examples."
   ]
  }
 ],
 "metadata": {
  "kernelspec": {
   "display_name": "Python (aoes)",
   "language": "python",
   "name": "aoes"
  },
  "language_info": {
   "codemirror_mode": {
    "name": "ipython",
    "version": 3
   },
   "file_extension": ".py",
   "mimetype": "text/x-python",
   "name": "python",
   "nbconvert_exporter": "python",
   "pygments_lexer": "ipython3",
   "version": "3.6.7"
  }
 },
 "nbformat": 4,
 "nbformat_minor": 4
}
